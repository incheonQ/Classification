{
 "cells": [
  {
   "cell_type": "markdown",
   "id": "dd0795a3",
   "metadata": {},
   "source": [
    "### Paper : https://arxiv.org/abs/1908.07442\n",
    "### Code : https://github.com/google-research/google-research/tree/master/tabnet\n",
    "### Doc : https://dreamquark-ai.github.io/tabnet/\n",
    "\n",
    "[출처] : https://wsshin.tistory.com/5, https://slowsteadystat.tistory.com/23"
   ]
  },
  {
   "cell_type": "markdown",
   "id": "09d8cf9a",
   "metadata": {},
   "source": [
    "# Data Load"
   ]
  },
  {
   "cell_type": "code",
   "execution_count": 1,
   "id": "63dda38b",
   "metadata": {},
   "outputs": [
    {
     "data": {
      "text/html": [
       "<div>\n",
       "<style scoped>\n",
       "    .dataframe tbody tr th:only-of-type {\n",
       "        vertical-align: middle;\n",
       "    }\n",
       "\n",
       "    .dataframe tbody tr th {\n",
       "        vertical-align: top;\n",
       "    }\n",
       "\n",
       "    .dataframe thead th {\n",
       "        text-align: right;\n",
       "    }\n",
       "</style>\n",
       "<table border=\"1\" class=\"dataframe\">\n",
       "  <thead>\n",
       "    <tr style=\"text-align: right;\">\n",
       "      <th></th>\n",
       "      <th>x1</th>\n",
       "      <th>x2</th>\n",
       "      <th>x3</th>\n",
       "      <th>x4</th>\n",
       "      <th>x5</th>\n",
       "      <th>x6</th>\n",
       "      <th>x7</th>\n",
       "      <th>x8</th>\n",
       "      <th>x9</th>\n",
       "      <th>x10</th>\n",
       "      <th>x11</th>\n",
       "      <th>x12</th>\n",
       "      <th>x13</th>\n",
       "      <th>x14</th>\n",
       "      <th>y</th>\n",
       "    </tr>\n",
       "  </thead>\n",
       "  <tbody>\n",
       "    <tr>\n",
       "      <th>0</th>\n",
       "      <td>25</td>\n",
       "      <td>Private</td>\n",
       "      <td>226802</td>\n",
       "      <td>11th</td>\n",
       "      <td>7</td>\n",
       "      <td>Never-married</td>\n",
       "      <td>Machine-op-inspct</td>\n",
       "      <td>Own-child</td>\n",
       "      <td>Black</td>\n",
       "      <td>Male</td>\n",
       "      <td>0</td>\n",
       "      <td>0</td>\n",
       "      <td>40</td>\n",
       "      <td>United-States</td>\n",
       "      <td>0</td>\n",
       "    </tr>\n",
       "    <tr>\n",
       "      <th>1</th>\n",
       "      <td>38</td>\n",
       "      <td>Private</td>\n",
       "      <td>89814</td>\n",
       "      <td>HS-grad</td>\n",
       "      <td>9</td>\n",
       "      <td>Married-civ-spouse</td>\n",
       "      <td>Farming-fishing</td>\n",
       "      <td>Husband</td>\n",
       "      <td>White</td>\n",
       "      <td>Male</td>\n",
       "      <td>0</td>\n",
       "      <td>0</td>\n",
       "      <td>50</td>\n",
       "      <td>United-States</td>\n",
       "      <td>0</td>\n",
       "    </tr>\n",
       "    <tr>\n",
       "      <th>2</th>\n",
       "      <td>28</td>\n",
       "      <td>Local-gov</td>\n",
       "      <td>336951</td>\n",
       "      <td>Assoc-acdm</td>\n",
       "      <td>12</td>\n",
       "      <td>Married-civ-spouse</td>\n",
       "      <td>Protective-serv</td>\n",
       "      <td>Husband</td>\n",
       "      <td>White</td>\n",
       "      <td>Male</td>\n",
       "      <td>0</td>\n",
       "      <td>0</td>\n",
       "      <td>40</td>\n",
       "      <td>United-States</td>\n",
       "      <td>1</td>\n",
       "    </tr>\n",
       "    <tr>\n",
       "      <th>3</th>\n",
       "      <td>44</td>\n",
       "      <td>Private</td>\n",
       "      <td>160323</td>\n",
       "      <td>Some-college</td>\n",
       "      <td>10</td>\n",
       "      <td>Married-civ-spouse</td>\n",
       "      <td>Machine-op-inspct</td>\n",
       "      <td>Husband</td>\n",
       "      <td>Black</td>\n",
       "      <td>Male</td>\n",
       "      <td>7688</td>\n",
       "      <td>0</td>\n",
       "      <td>40</td>\n",
       "      <td>United-States</td>\n",
       "      <td>1</td>\n",
       "    </tr>\n",
       "    <tr>\n",
       "      <th>4</th>\n",
       "      <td>18</td>\n",
       "      <td>NaN</td>\n",
       "      <td>103497</td>\n",
       "      <td>Some-college</td>\n",
       "      <td>10</td>\n",
       "      <td>Never-married</td>\n",
       "      <td>NaN</td>\n",
       "      <td>Own-child</td>\n",
       "      <td>White</td>\n",
       "      <td>Female</td>\n",
       "      <td>0</td>\n",
       "      <td>0</td>\n",
       "      <td>30</td>\n",
       "      <td>United-States</td>\n",
       "      <td>0</td>\n",
       "    </tr>\n",
       "  </tbody>\n",
       "</table>\n",
       "</div>"
      ],
      "text/plain": [
       "   x1         x2      x3            x4  x5                  x6  \\\n",
       "0  25    Private  226802          11th   7       Never-married   \n",
       "1  38    Private   89814       HS-grad   9  Married-civ-spouse   \n",
       "2  28  Local-gov  336951    Assoc-acdm  12  Married-civ-spouse   \n",
       "3  44    Private  160323  Some-college  10  Married-civ-spouse   \n",
       "4  18        NaN  103497  Some-college  10       Never-married   \n",
       "\n",
       "                  x7         x8     x9     x10   x11  x12  x13            x14  \\\n",
       "0  Machine-op-inspct  Own-child  Black    Male     0    0   40  United-States   \n",
       "1    Farming-fishing    Husband  White    Male     0    0   50  United-States   \n",
       "2    Protective-serv    Husband  White    Male     0    0   40  United-States   \n",
       "3  Machine-op-inspct    Husband  Black    Male  7688    0   40  United-States   \n",
       "4                NaN  Own-child  White  Female     0    0   30  United-States   \n",
       "\n",
       "   y  \n",
       "0  0  \n",
       "1  0  \n",
       "2  1  \n",
       "3  1  \n",
       "4  0  "
      ]
     },
     "execution_count": 1,
     "metadata": {},
     "output_type": "execute_result"
    }
   ],
   "source": [
    "import pandas as pd\n",
    "\n",
    "# Dataset : https://www.kaggle.com/datasets/wenruliu/adult-income-dataset\n",
    "df_raw = pd.read_csv('../data/classification/adult.csv')\n",
    "\n",
    "df_raw.head(5)"
   ]
  },
  {
   "cell_type": "markdown",
   "id": "c63f6761",
   "metadata": {},
   "source": [
    "# Check Missing Value"
   ]
  },
  {
   "cell_type": "code",
   "execution_count": 2,
   "id": "374d44ed",
   "metadata": {},
   "outputs": [],
   "source": [
    "def check_missing(df, fillna=None):\n",
    "    # !pip install missingno\n",
    "    import missingno as msno\n",
    "    \n",
    "    print(f\"\\n# of observations : {df.shape[0]}\")\n",
    "    print(f\"# of features : {df.shape[1]}\\n\")\n",
    "    \n",
    "    print(\"Ratio of missing values in a column (%)\")\n",
    "    print(round( df.isnull().sum() / df.shape[0] * 100, 2))\n",
    "    \n",
    "    %matplotlib inline\n",
    "    msno.matrix(df)\n",
    "    \n",
    "    for idx, i in enumerate(df.isnull().sum()):\n",
    "        if i > 0:\n",
    "            if df.iloc[:,idx].dtype == 'object':\n",
    "                print(f\"The {idx}-th column\\n\")\n",
    "                print(df.iloc[:,idx].value_counts(dropna=False))\n",
    "            else:\n",
    "                print(f\"The {idx}-th column is not object type.\")\n",
    "            print(\"=\"*50)\n",
    "    "
   ]
  },
  {
   "cell_type": "code",
   "execution_count": 3,
   "id": "27fafff9",
   "metadata": {},
   "outputs": [
    {
     "name": "stdout",
     "output_type": "stream",
     "text": [
      "\n",
      "# of observations : 48842\n",
      "# of features : 15\n",
      "\n",
      "Ratio of missing values in a column (%)\n",
      "x1     0.00\n",
      "x2     5.73\n",
      "x3     0.00\n",
      "x4     0.00\n",
      "x5     0.00\n",
      "x6     0.00\n",
      "x7     5.75\n",
      "x8     0.00\n",
      "x9     0.00\n",
      "x10    0.00\n",
      "x11    0.00\n",
      "x12    0.00\n",
      "x13    0.00\n",
      "x14    1.75\n",
      "y      0.00\n",
      "dtype: float64\n",
      "The 1-th column\n",
      "\n",
      "Private             33906\n",
      "Self-emp-not-inc     3862\n",
      "Local-gov            3136\n",
      "NaN                  2799\n",
      "State-gov            1981\n",
      "Self-emp-inc         1695\n",
      "Federal-gov          1432\n",
      "Without-pay            21\n",
      "Never-worked           10\n",
      "Name: x2, dtype: int64\n",
      "==================================================\n",
      "The 6-th column\n",
      "\n",
      "Prof-specialty       6172\n",
      "Craft-repair         6112\n",
      "Exec-managerial      6086\n",
      "Adm-clerical         5611\n",
      "Sales                5504\n",
      "Other-service        4923\n",
      "Machine-op-inspct    3022\n",
      "NaN                  2809\n",
      "Transport-moving     2355\n",
      "Handlers-cleaners    2072\n",
      "Farming-fishing      1490\n",
      "Tech-support         1446\n",
      "Protective-serv       983\n",
      "Priv-house-serv       242\n",
      "Armed-Forces           15\n",
      "Name: x7, dtype: int64\n",
      "==================================================\n",
      "The 13-th column\n",
      "\n",
      "United-States                 43832\n",
      "Mexico                          951\n",
      "NaN                             857\n",
      "Philippines                     295\n",
      "Germany                         206\n",
      "Puerto-Rico                     184\n",
      "Canada                          182\n",
      "El-Salvador                     155\n",
      "India                           151\n",
      "Cuba                            138\n",
      "England                         127\n",
      "China                           122\n",
      "South                           115\n",
      "Jamaica                         106\n",
      "Italy                           105\n",
      "Dominican-Republic              103\n",
      "Japan                            92\n",
      "Guatemala                        88\n",
      "Poland                           87\n",
      "Vietnam                          86\n",
      "Columbia                         85\n",
      "Haiti                            75\n",
      "Portugal                         67\n",
      "Taiwan                           65\n",
      "Iran                             59\n",
      "Greece                           49\n",
      "Nicaragua                        49\n",
      "Peru                             46\n",
      "Ecuador                          45\n",
      "France                           38\n",
      "Ireland                          37\n",
      "Hong                             30\n",
      "Thailand                         30\n",
      "Cambodia                         28\n",
      "Trinadad&Tobago                  27\n",
      "Laos                             23\n",
      "Yugoslavia                       23\n",
      "Outlying-US(Guam-USVI-etc)       23\n",
      "Scotland                         21\n",
      "Honduras                         20\n",
      "Hungary                          19\n",
      "Holand-Netherlands                1\n",
      "Name: x14, dtype: int64\n",
      "==================================================\n"
     ]
    },
    {
     "data": {
      "image/png": "[encoded data removed]",
      "text/plain": [
       "<Figure size 1800x720 with 2 Axes>"
      ]
     },
     "metadata": {
      "needs_background": "light"
     },
     "output_type": "display_data"
    }
   ],
   "source": [
    "check_missing(df_raw)"
   ]
  },
  {
   "cell_type": "code",
   "execution_count": 4,
   "id": "50509767",
   "metadata": {},
   "outputs": [],
   "source": [
    "df_modified = df_raw.fillna(value='NaN')"
   ]
  },
  {
   "cell_type": "markdown",
   "id": "e6856b24",
   "metadata": {},
   "source": [
    "# Label Encoding"
   ]
  },
  {
   "cell_type": "code",
   "execution_count": 5,
   "id": "590d63dd",
   "metadata": {},
   "outputs": [],
   "source": [
    "def label_encoding(df, unused_feat):\n",
    "    from sklearn.preprocessing import LabelEncoder\n",
    "    encoder = LabelEncoder()\n",
    "    \n",
    "    categorical_columns = []\n",
    "    categorical_dims =  {}\n",
    "    \n",
    "    for col in df.columns:\n",
    "        if df[col].dtype == 'object':\n",
    "            categorical_columns.append(col)\n",
    "            categorical_dims[col] = len(df[col].unique())\n",
    "            \n",
    "            df[col] = encoder.fit_transform(df[col])\n",
    "            \n",
    "    features = [ col for col in df.columns if col not in unused_feat] \n",
    "    cat_idxs = [ i for i, f in enumerate(features) if f in categorical_columns]\n",
    "    cat_dims = [ categorical_dims[f] for i, f in enumerate(features) if f in categorical_columns]\n",
    "\n",
    "    return categorical_columns, categorical_dims, cat_idxs, cat_dims"
   ]
  },
  {
   "cell_type": "code",
   "execution_count": 6,
   "id": "708b182f",
   "metadata": {},
   "outputs": [],
   "source": [
    "categorical_columns, categorical_dims, cat_idxs, cat_dims = label_encoding(df_modified, ['Set', 'y'])"
   ]
  },
  {
   "cell_type": "markdown",
   "id": "e6ec0c1a",
   "metadata": {},
   "source": [
    "# Dataset Splitting"
   ]
  },
  {
   "cell_type": "code",
   "execution_count": 7,
   "id": "fd462a91",
   "metadata": {},
   "outputs": [],
   "source": [
    "def dataset_split(df, train=.8, valid=.1, test=.1):\n",
    "    import numpy as np\n",
    "        \n",
    "    if \"Set\" not in df.columns:\n",
    "        df['Set'] = np.random.choice(['train', 'valid', 'test'], \n",
    "                                     p =[.8, .1, .1], \n",
    "                                     size=(df.shape[0],))\n",
    "        \n",
    "    print(df['Set'].value_counts())"
   ]
  },
  {
   "cell_type": "code",
   "execution_count": 8,
   "id": "d202d4a2",
   "metadata": {},
   "outputs": [
    {
     "name": "stdout",
     "output_type": "stream",
     "text": [
      "train    39001\n",
      "test      4979\n",
      "valid     4862\n",
      "Name: Set, dtype: int64\n"
     ]
    }
   ],
   "source": [
    "dataset_split(df_modified)"
   ]
  },
  {
   "cell_type": "code",
   "execution_count": 9,
   "id": "f09a7f28",
   "metadata": {},
   "outputs": [],
   "source": [
    "def train_test_split(df, target):\n",
    "\n",
    "    train_indices = df_modified[df_modified.Set==\"train\"].index\n",
    "    valid_indices = df_modified[df_modified.Set==\"valid\"].index\n",
    "    test_indices = df_modified[df_modified.Set==\"test\"].index\n",
    "    \n",
    "    features = [ col for col in df.columns if col not in ['Set']+[target]]\n",
    "\n",
    "    X_train = df_modified[features].values[train_indices]\n",
    "    y_train = df_modified[target].values[train_indices]\n",
    "\n",
    "    X_valid = df_modified[features].values[valid_indices]\n",
    "    y_valid = df_modified[target].values[valid_indices]\n",
    "\n",
    "    X_test = df_modified[features].values[test_indices]\n",
    "    y_test = df_modified[target].values[test_indices]\n",
    "    \n",
    "    return X_train, y_train, X_valid, y_valid, X_test, y_test"
   ]
  },
  {
   "cell_type": "code",
   "execution_count": 10,
   "id": "275145a3",
   "metadata": {},
   "outputs": [],
   "source": [
    "X_train, y_train, X_valid, y_valid, X_test, y_test = train_test_split(df_modified, 'y')"
   ]
  },
  {
   "cell_type": "markdown",
   "id": "713fdbb9",
   "metadata": {},
   "source": [
    "# Model"
   ]
  },
  {
   "cell_type": "code",
   "execution_count": 11,
   "id": "f8de7758",
   "metadata": {},
   "outputs": [],
   "source": [
    "import warnings\n",
    "warnings.filterwarnings('ignore')"
   ]
  },
  {
   "cell_type": "code",
   "execution_count": 12,
   "id": "c016c2be",
   "metadata": {},
   "outputs": [],
   "source": [
    "from pytorch_tabnet.tab_model import TabNetClassifier\n",
    "import torch\n",
    "\n",
    "clf = TabNetClassifier(cat_idxs=cat_idxs,\n",
    "                       cat_dims=cat_dims,\n",
    "                       cat_emb_dim=10,\n",
    "                       optimizer_fn=torch.optim.Adam,\n",
    "                       optimizer_params=dict(lr=1e-2),\n",
    "                       scheduler_params={\"step_size\":50,\n",
    "                                         \"gamma\":0.9},\n",
    "                       scheduler_fn=torch.optim.lr_scheduler.StepLR,\n",
    "                       mask_type='sparsemax' # \"sparsemax\", entmax\n",
    "                      )"
   ]
  },
  {
   "cell_type": "code",
   "execution_count": null,
   "id": "14e370dc",
   "metadata": {},
   "outputs": [
    {
     "name": "stdout",
     "output_type": "stream",
     "text": [
      "epoch 0  | loss: 0.58102 | train_auc: 0.67533 | valid_auc: 0.6631  |  0:00:02s\n",
      "epoch 1  | loss: 0.46502 | train_auc: 0.78996 | valid_auc: 0.77955 |  0:00:04s\n",
      "epoch 2  | loss: 0.44884 | train_auc: 0.84077 | valid_auc: 0.83452 |  0:00:06s\n",
      "epoch 3  | loss: 0.43547 | train_auc: 0.8728  | valid_auc: 0.87086 |  0:00:08s\n",
      "epoch 4  | loss: 0.42119 | train_auc: 0.8842  | valid_auc: 0.8806  |  0:00:09s\n",
      "epoch 5  | loss: 0.41255 | train_auc: 0.89604 | valid_auc: 0.89105 |  0:00:12s\n",
      "epoch 6  | loss: 0.40487 | train_auc: 0.90193 | valid_auc: 0.90044 |  0:00:16s\n",
      "epoch 7  | loss: 0.39843 | train_auc: 0.90432 | valid_auc: 0.90264 |  0:00:18s\n",
      "epoch 8  | loss: 0.39874 | train_auc: 0.90404 | valid_auc: 0.90253 |  0:00:20s\n",
      "epoch 9  | loss: 0.39195 | train_auc: 0.90558 | valid_auc: 0.90253 |  0:00:22s\n",
      "epoch 10 | loss: 0.38955 | train_auc: 0.90615 | valid_auc: 0.90254 |  0:00:23s\n",
      "epoch 11 | loss: 0.38178 | train_auc: 0.90816 | valid_auc: 0.90313 |  0:00:25s\n",
      "epoch 12 | loss: 0.38923 | train_auc: 0.91068 | valid_auc: 0.90451 |  0:00:27s\n"
     ]
    }
   ],
   "source": [
    "max_epochs = 30\n",
    "save_history = []\n",
    "\n",
    "clf.fit(\n",
    "    X_train=X_train, y_train=y_train,\n",
    "    eval_set=[(X_train, y_train), (X_valid, y_valid)],\n",
    "    eval_name=['train', 'valid'],\n",
    "    eval_metric=['auc'],\n",
    "    max_epochs=max_epochs , patience=20,\n",
    "    batch_size=1024, virtual_batch_size=128,\n",
    "    num_workers=0,\n",
    "    weights=1,\n",
    "    drop_last=False,\n",
    "    warm_start=True,\n",
    ")\n",
    "save_history.append(clf.history[\"valid_auc\"])"
   ]
  },
  {
   "cell_type": "markdown",
   "id": "0a31905d",
   "metadata": {},
   "source": [
    "# Result"
   ]
  },
  {
   "cell_type": "markdown",
   "id": "523dc482",
   "metadata": {},
   "source": [
    "### History"
   ]
  },
  {
   "cell_type": "code",
   "execution_count": null,
   "id": "af592913",
   "metadata": {},
   "outputs": [],
   "source": [
    "import matplotlib.pyplot as plt\n",
    "\n",
    "fig, axs = plt.subplots(1, 3, figsize=(15,3))\n",
    "\n",
    "axs[0].plot(clf.history['loss'])\n",
    "axs[0].set_title(f\"loss\")\n",
    "\n",
    "axs[1].plot(clf.history['train_auc'])\n",
    "axs[1].plot(clf.history['valid_auc'])\n",
    "axs[1].set_title(\"train_valid_auc\")\n",
    "\n",
    "axs[2].plot(clf.history['lr'])\n",
    "axs[2].set_title(f\"learning rate\")"
   ]
  },
  {
   "cell_type": "markdown",
   "id": "a081743d",
   "metadata": {},
   "source": [
    "### Test Score"
   ]
  },
  {
   "cell_type": "code",
   "execution_count": null,
   "id": "9696f8fe",
   "metadata": {},
   "outputs": [],
   "source": [
    "from sklearn.metrics import roc_auc_score\n",
    "\n",
    "preds = clf.predict_proba(X_test)\n",
    "test_auc = roc_auc_score(y_score=preds[:,1], y_true=y_test)\n",
    "\n",
    "print(f\"FINAL TEST SCORE : {test_auc}\")"
   ]
  },
  {
   "cell_type": "markdown",
   "id": "26197adb",
   "metadata": {},
   "source": [
    "### Feature Importance"
   ]
  },
  {
   "cell_type": "code",
   "execution_count": null,
   "id": "205d7192",
   "metadata": {},
   "outputs": [],
   "source": [
    "features = [ col for col in df_modified.columns if col not in ['Set', 'y']] \n",
    "\n",
    "feat_importances = pd.Series(clf.feature_importances_, index=features)\n",
    "feat_importances.plot(kind='barh')"
   ]
  },
  {
   "cell_type": "code",
   "execution_count": null,
   "id": "121dd82b",
   "metadata": {},
   "outputs": [],
   "source": [
    "explain_matrix, masks = clf.explain(X_test)"
   ]
  },
  {
   "cell_type": "code",
   "execution_count": null,
   "id": "14aaad79",
   "metadata": {},
   "outputs": [],
   "source": [
    "fig, axs = plt.subplots(1, 3, figsize=(20,10))\n",
    "for i in range(3):\n",
    "    axs[i].plot(explain_matrix[i])\n",
    "    axs[i].set_title(f\"sample {i}\")"
   ]
  },
  {
   "cell_type": "code",
   "execution_count": null,
   "id": "8b541f47",
   "metadata": {},
   "outputs": [],
   "source": [
    "fig, axs = plt.subplots(1, 3, figsize=(10,10))\n",
    "for i in range(3):\n",
    "    axs[i].imshow(masks[i][:50])\n",
    "    axs[i].set_title(f\"mask {i}\")"
   ]
  },
  {
   "cell_type": "code",
   "execution_count": null,
   "id": "131b73ef",
   "metadata": {},
   "outputs": [],
   "source": []
  }
 ],
 "metadata": {
  "kernelspec": {
   "display_name": "Python 3 (ipykernel)",
   "language": "python",
   "name": "python3"
  },
  "language_info": {
   "codemirror_mode": {
    "name": "ipython",
    "version": 3
   },
   "file_extension": ".py",
   "mimetype": "text/x-python",
   "name": "python",
   "nbconvert_exporter": "python",
   "pygments_lexer": "ipython3",
   "version": "3.9.7"
  }
 },
 "nbformat": 4,
 "nbformat_minor": 5
}
